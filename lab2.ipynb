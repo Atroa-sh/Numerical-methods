{
 "cells": [
  {
   "cell_type": "code",
   "execution_count": 1,
   "metadata": {},
   "outputs": [
    {
     "data": {
      "text/plain": [
       "* (generic function with 366 methods)"
      ]
     },
     "execution_count": 1,
     "metadata": {},
     "output_type": "execute_result"
    }
   ],
   "source": [
    "import Base: +, -, ^, sqrt , *\n",
    "function -(x::Array{Float64,1},y::Float64) where {T<:Number}\n",
    "    return [i-y for i in x]\n",
    "end\n",
    "function ^(x::Array{Float64,1},y::T) where {T<:Number}\n",
    "    return [i^y for i in x]\n",
    "end\n",
    "function sqrt(x::Array{Float64,1})\n",
    "    return [sqrt(i) for i in x]\n",
    "end\n",
    "\n",
    "function *(x::Array{T,2},y::Array{T,1}) where {T<:Number}\n",
    "    if size(x)[2]!=size(y)[1]\n",
    "        return \"wrong size of arrays\"\n",
    "    else\n",
    "        return [[x[i,:][j]*y[j] for j in 1:size(y)[1]] for i in 1:size(x)[1]]\n",
    "    end\n",
    "end\n",
    "\n",
    "function *(x::Array{T,1},y::Array{T,1}) where {T<:Number}\n",
    "    if size(x)!=size(y)\n",
    "        return \"sizes of arrays are not equal\"\n",
    "    else\n",
    "        return sum([i*j for i in x, j in y])\n",
    "    end\n",
    "end"
   ]
  },
  {
   "cell_type": "code",
   "execution_count": 2,
   "metadata": {},
   "outputs": [
    {
     "name": "stdout",
     "output_type": "stream",
     "text": [
      "  307.944 ms (3 allocations: 617.98 MiB)\n",
      "  290.652 ms (3 allocations: 617.98 MiB)\n",
      "  287.963 ms (3 allocations: 617.98 MiB)\n",
      "  291.027 ms (3 allocations: 617.98 MiB)\n",
      "  289.511 ms (3 allocations: 617.98 MiB)\n",
      "  293.770 ms (3 allocations: 617.98 MiB)\n",
      "  293.079 ms (3 allocations: 617.98 MiB)\n",
      "  292.699 ms (3 allocations: 617.98 MiB)\n",
      "  302.501 ms (3 allocations: 617.98 MiB)\n",
      "  295.803 ms (3 allocations: 617.98 MiB)\n"
     ]
    }
   ],
   "source": [
    "using BenchmarkTools\n",
    "\n",
    "x = fill(5,9000)\n",
    "y = fill(5 , 9000)\n",
    "time = 0\n",
    "for i in 1:10\n",
    "    @btime x*y\n",
    "end\n",
    "\n",
    "    "
   ]
  },
  {
   "cell_type": "code",
   "execution_count": 31,
   "metadata": {},
   "outputs": [
    {
     "data": {
      "text/html": [
       "<table class=\"data-frame\"><thead><tr><th></th><th>wymiar</th><th>czas_w_ns</th><th>proba</th></tr><tr><th></th><th>String</th><th>Float64</th><th>Int64</th></tr></thead><tbody><p>50 rows × 3 columns</p><tr><th>1</th><td>30x30</td><td>761.527</td><td>1</td></tr><tr><th>2</th><td>30x30</td><td>772.556</td><td>2</td></tr><tr><th>3</th><td>30x30</td><td>765.86</td><td>3</td></tr><tr><th>4</th><td>30x30</td><td>776.63</td><td>4</td></tr><tr><th>5</th><td>30x30</td><td>766.466</td><td>5</td></tr><tr><th>6</th><td>30x30</td><td>772.436</td><td>6</td></tr><tr><th>7</th><td>30x30</td><td>772.0</td><td>7</td></tr><tr><th>8</th><td>30x30</td><td>763.775</td><td>8</td></tr><tr><th>9</th><td>30x30</td><td>778.621</td><td>9</td></tr><tr><th>10</th><td>30x30</td><td>771.248</td><td>10</td></tr><tr><th>11</th><td>300x300</td><td>67299.0</td><td>1</td></tr><tr><th>12</th><td>300x300</td><td>66900.0</td><td>2</td></tr><tr><th>13</th><td>300x300</td><td>67600.0</td><td>3</td></tr><tr><th>14</th><td>300x300</td><td>67601.0</td><td>4</td></tr><tr><th>15</th><td>300x300</td><td>67300.0</td><td>5</td></tr><tr><th>16</th><td>300x300</td><td>67400.0</td><td>6</td></tr><tr><th>17</th><td>300x300</td><td>66201.0</td><td>7</td></tr><tr><th>18</th><td>300x300</td><td>66801.0</td><td>8</td></tr><tr><th>19</th><td>300x300</td><td>67000.0</td><td>9</td></tr><tr><th>20</th><td>300x300</td><td>66800.0</td><td>10</td></tr><tr><th>21</th><td>900x900</td><td>2.662e6</td><td>1</td></tr><tr><th>22</th><td>900x900</td><td>2.641e6</td><td>2</td></tr><tr><th>23</th><td>900x900</td><td>2.637e6</td><td>3</td></tr><tr><th>24</th><td>900x900</td><td>2.673e6</td><td>4</td></tr><tr><th>25</th><td>900x900</td><td>2.671e6</td><td>5</td></tr><tr><th>26</th><td>900x900</td><td>2.643e6</td><td>6</td></tr><tr><th>27</th><td>900x900</td><td>2.633e6</td><td>7</td></tr><tr><th>28</th><td>900x900</td><td>2.652e6</td><td>8</td></tr><tr><th>29</th><td>900x900</td><td>2.66e6</td><td>9</td></tr><tr><th>30</th><td>900x900</td><td>2.645e6</td><td>10</td></tr><tr><th>&vellip;</th><td>&vellip;</td><td>&vellip;</td><td>&vellip;</td></tr></tbody></table>"
      ],
      "text/latex": [
       "\\begin{tabular}{r|ccc}\n",
       "\t& wymiar & czas\\_w\\_ns & proba\\\\\n",
       "\t\\hline\n",
       "\t& String & Float64 & Int64\\\\\n",
       "\t\\hline\n",
       "\t1 & 30x30 & 761.527 & 1 \\\\\n",
       "\t2 & 30x30 & 772.556 & 2 \\\\\n",
       "\t3 & 30x30 & 765.86 & 3 \\\\\n",
       "\t4 & 30x30 & 776.63 & 4 \\\\\n",
       "\t5 & 30x30 & 766.466 & 5 \\\\\n",
       "\t6 & 30x30 & 772.436 & 6 \\\\\n",
       "\t7 & 30x30 & 772.0 & 7 \\\\\n",
       "\t8 & 30x30 & 763.775 & 8 \\\\\n",
       "\t9 & 30x30 & 778.621 & 9 \\\\\n",
       "\t10 & 30x30 & 771.248 & 10 \\\\\n",
       "\t11 & 300x300 & 67299.0 & 1 \\\\\n",
       "\t12 & 300x300 & 66900.0 & 2 \\\\\n",
       "\t13 & 300x300 & 67600.0 & 3 \\\\\n",
       "\t14 & 300x300 & 67601.0 & 4 \\\\\n",
       "\t15 & 300x300 & 67300.0 & 5 \\\\\n",
       "\t16 & 300x300 & 67400.0 & 6 \\\\\n",
       "\t17 & 300x300 & 66201.0 & 7 \\\\\n",
       "\t18 & 300x300 & 66801.0 & 8 \\\\\n",
       "\t19 & 300x300 & 67000.0 & 9 \\\\\n",
       "\t20 & 300x300 & 66800.0 & 10 \\\\\n",
       "\t21 & 900x900 & 2.662e6 & 1 \\\\\n",
       "\t22 & 900x900 & 2.641e6 & 2 \\\\\n",
       "\t23 & 900x900 & 2.637e6 & 3 \\\\\n",
       "\t24 & 900x900 & 2.673e6 & 4 \\\\\n",
       "\t25 & 900x900 & 2.671e6 & 5 \\\\\n",
       "\t26 & 900x900 & 2.643e6 & 6 \\\\\n",
       "\t27 & 900x900 & 2.633e6 & 7 \\\\\n",
       "\t28 & 900x900 & 2.652e6 & 8 \\\\\n",
       "\t29 & 900x900 & 2.66e6 & 9 \\\\\n",
       "\t30 & 900x900 & 2.645e6 & 10 \\\\\n",
       "\t$\\dots$ & $\\dots$ & $\\dots$ & $\\dots$ \\\\\n",
       "\\end{tabular}\n"
      ],
      "text/plain": [
       "\u001b[1m50×3 DataFrame\u001b[0m\n",
       "\u001b[1m Row \u001b[0m│\u001b[1m wymiar    \u001b[0m\u001b[1m czas_w_ns     \u001b[0m\u001b[1m proba \u001b[0m\n",
       "\u001b[1m     \u001b[0m│\u001b[90m String    \u001b[0m\u001b[90m Float64       \u001b[0m\u001b[90m Int64 \u001b[0m\n",
       "─────┼─────────────────────────────────\n",
       "   1 │ 30x30        761.527          1\n",
       "   2 │ 30x30        772.556          2\n",
       "   3 │ 30x30        765.86           3\n",
       "   4 │ 30x30        776.63           4\n",
       "   5 │ 30x30        766.466          5\n",
       "   6 │ 30x30        772.436          6\n",
       "   7 │ 30x30        772.0            7\n",
       "   8 │ 30x30        763.775          8\n",
       "   9 │ 30x30        778.621          9\n",
       "  10 │ 30x30        771.248         10\n",
       "  11 │ 300x300    67299.0            1\n",
       "  ⋮  │     ⋮            ⋮          ⋮\n",
       "  41 │ 9000x9000      2.93122e8      1\n",
       "  42 │ 9000x9000      2.83357e8      2\n",
       "  43 │ 9000x9000      3.04016e8      3\n",
       "  44 │ 9000x9000      3.13089e8      4\n",
       "  45 │ 9000x9000      3.04534e8      5\n",
       "  46 │ 9000x9000      3.15953e8      6\n",
       "  47 │ 9000x9000      3.002e8        7\n",
       "  48 │ 9000x9000      2.96883e8      8\n",
       "  49 │ 9000x9000      3.30754e8      9\n",
       "  50 │ 9000x9000      2.91742e8     10\n",
       "\u001b[36m                        29 rows omitted\u001b[0m"
      ]
     },
     "execution_count": 31,
     "metadata": {},
     "output_type": "execute_result"
    }
   ],
   "source": [
    "using DataFrames\n",
    "using CSV\n",
    "input=\"C:\\\\Users\\\\kacpe\\\\Desktop\\\\cos co jest mi potrzebne i guess\\\\multimedia i algo przetwarzania multi\\\\lab2\\\\czasyData.csv\"\n",
    "data = CSV.read(input, delim=\";\",DataFrame)\n",
    "input2 = \"C:\\\\Users\\\\kacpe\\\\Desktop\\\\cos co jest mi potrzebne i guess\\\\multimedia i algo przetwarzania multi\\\\lab2\\\\czasyiloczyn.csv\"\n",
    "data2 = CSV.read(input2, delim=\";\",DataFrame)"
   ]
  },
  {
   "cell_type": "code",
   "execution_count": 5,
   "metadata": {},
   "outputs": [
    {
     "ename": "LoadError",
     "evalue": "\u001b[91mUndefVarError: data not defined\u001b[39m",
     "output_type": "error",
     "traceback": [
      "\u001b[91mUndefVarError: data not defined\u001b[39m",
      "",
      "Stacktrace:",
      " [1] (::var\"#21#22\")(::Int64) at .\\none:0",
      " [2] iterate at .\\generator.jl:47 [inlined]",
      " [3] collect(::Base.Generator{StepRange{Int64,Int64},var\"#21#22\"}) at .\\array.jl:686",
      " [4] top-level scope at In[5]:1",
      " [5] include_string(::Function, ::Module, ::String, ::String) at .\\loading.jl:1091"
     ]
    }
   ],
   "source": [
    "avrg=[sum(data[1+j:10+j,:czas_w_ns])/10 for j in 0:10:40]\n",
    "avrg2=[sum(data2[1+j:10+j,:czas_w_ns])/10 for j in 0:10:40]\n",
    "cols=Any[[\"2x3\" , \"2x30\" , \"20x30\" , \"20x300\" , \"200x300\"],[sum(data[1+j:10+j,:czas_w_ns])/10 for j in 0:10:40] , [sqrt(sum((data[1+j:10+j,:czas_w_ns] - avrg[Int((j+10)/10)])^2)) for j in 0:10:40]]\n",
    "df = DataFrame(cols , [:wymiary , :avrg_time , :std_div])\n",
    "cols2=Any[[\"30x30\" , \"300x300\" , \"900x900\" , \"3000x3000\" , \"9000x9000\"] ,[sum(data2[1+j:10+j,:czas_w_ns])/10 for j in 0:10:40] , [sqrt(sum((data2[1+j:10+j,:czas_w_ns] - avrg2[Int((j+10)/10)])^2)) for j in 0:10:40]]\n",
    "df2 = DataFrame(cols2 , [:wymiary , :avrg_time , :std_div])"
   ]
  },
  {
   "cell_type": "code",
   "execution_count": 4,
   "metadata": {},
   "outputs": [
    {
     "ename": "LoadError",
     "evalue": "\u001b[91msyntax: \"scatter(df2.wymiary, df2.avrg_time, yerr = df2.std_div, title = \"czasy obliczen iloczynu wektorowego\", xaxis = \"wymiar macierzy\", yaxis = (:log, \"czas obliczen w ns\"))\" is not a valid function argument name around In[4]:3\u001b[39m",
     "output_type": "error",
     "traceback": [
      "\u001b[91msyntax: \"scatter(df2.wymiary, df2.avrg_time, yerr = df2.std_div, title = \"czasy obliczen iloczynu wektorowego\", xaxis = \"wymiar macierzy\", yaxis = (:log, \"czas obliczen w ns\"))\" is not a valid function argument name around In[4]:3\u001b[39m",
      "",
      "Stacktrace:",
      " [1] top-level scope at In[4]:3",
      " [2] include_string(::Function, ::Module, ::String, ::String) at .\\loading.jl:1091"
     ]
    }
   ],
   "source": [
    "using Plots\n",
    "\n",
    "w2 = scatter(df2.wymiary, df2.avrg_time , yerr=df2.std_div , title= \"czasy obliczen iloczynu wektorowego\" , xaxis = ( \"wymiar macierzy\") , yaxis = (:log , \"czas obliczen w ns\") )w1 = scatter(df.wymiary, df.avrg_time , yerr=df.std_div , title= \"czasy obliczen mnozenia macierzy\" , xaxis = ( \"wymiar macierzy\") , yaxis = (:log , \"czas obliczen w ns\") )"
   ]
  },
  {
   "cell_type": "code",
   "execution_count": 3,
   "metadata": {},
   "outputs": [
    {
     "ename": "LoadError",
     "evalue": "\u001b[91mUndefVarError: df2 not defined\u001b[39m",
     "output_type": "error",
     "traceback": [
      "\u001b[91mUndefVarError: df2 not defined\u001b[39m",
      "",
      "Stacktrace:",
      " [1] top-level scope at In[3]:1",
      " [2] include_string(::Function, ::Module, ::String, ::String) at .\\loading.jl:1091"
     ]
    }
   ],
   "source": []
  },
  {
   "cell_type": "code",
   "execution_count": 1,
   "metadata": {},
   "outputs": [
    {
     "ename": "LoadError",
     "evalue": "\u001b[91mUndefVarError: plot not defined\u001b[39m",
     "output_type": "error",
     "traceback": [
      "\u001b[91mUndefVarError: plot not defined\u001b[39m",
      "",
      "Stacktrace:",
      " [1] top-level scope at In[1]:1",
      " [2] include_string(::Function, ::Module, ::String, ::String) at .\\loading.jl:1091"
     ]
    }
   ],
   "source": [
    "plot(w1 , w2 , layout=(1,2))"
   ]
  }
 ],
 "metadata": {
  "kernelspec": {
   "display_name": "Julia 1.5.3",
   "language": "julia",
   "name": "julia-1.5"
  },
  "language_info": {
   "file_extension": ".jl",
   "mimetype": "application/julia",
   "name": "julia",
   "version": "1.5.3"
  }
 },
 "nbformat": 4,
 "nbformat_minor": 4
}
