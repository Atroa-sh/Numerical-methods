{
 "cells": [
  {
   "cell_type": "code",
   "execution_count": 1,
   "metadata": {},
   "outputs": [
    {
     "data": {
      "text/html": [
       "# 11 methods for generic function <b>factorize</b>:<ul><li> factorize(A::<b>StridedArray{T, 2}</b>)<i> where T</i> in LinearAlgebra at <a href=\"file://C:/buildbot/worker/package_win64/build/usr/share/julia/stdlib/v1.5/LinearAlgebra/src/dense.jl\" target=\"_blank\">C:\\Users\\kacpe\\AppData\\Local\\Programs\\Julia 1.5.3\\share\\julia\\stdlib\\v1.5\\LinearAlgebra\\src\\dense.jl:1207</a></li> <li> factorize(A::<b>Adjoint</b>) in LinearAlgebra at <a href=\"file://C:/buildbot/worker/package_win64/build/usr/share/julia/stdlib/v1.5/LinearAlgebra/src/dense.jl\" target=\"_blank\">C:\\Users\\kacpe\\AppData\\Local\\Programs\\Julia 1.5.3\\share\\julia\\stdlib\\v1.5\\LinearAlgebra\\src\\dense.jl:1283</a></li> <li> factorize(A::<b>Transpose</b>) in LinearAlgebra at <a href=\"file://C:/buildbot/worker/package_win64/build/usr/share/julia/stdlib/v1.5/LinearAlgebra/src/dense.jl\" target=\"_blank\">C:\\Users\\kacpe\\AppData\\Local\\Programs\\Julia 1.5.3\\share\\julia\\stdlib\\v1.5\\LinearAlgebra\\src\\dense.jl:1284</a></li> <li> factorize(A::<b>LinearAlgebra.AbstractTriangular</b>) in LinearAlgebra at <a href=\"file://C:/buildbot/worker/package_win64/build/usr/share/julia/stdlib/v1.5/LinearAlgebra/src/triangular.jl\" target=\"_blank\">C:\\Users\\kacpe\\AppData\\Local\\Programs\\Julia 1.5.3\\share\\julia\\stdlib\\v1.5\\LinearAlgebra\\src\\triangular.jl:2676</a></li> <li> factorize(A::<b>Union{Hermitian{Complex{Float64},var\"#s828\"}, Hermitian{Float64,var\"#s828\"}, Symmetric{Float64,var\"#s828\"}} where var\"#s828\"<:SparseArrays.AbstractSparseMatrixCSC</b>) in SparseArrays at <a href=\"file://C:/buildbot/worker/package_win64/build/usr/share/julia/stdlib/v1.5/SparseArrays/src/linalg.jl\" target=\"_blank\">C:\\Users\\kacpe\\AppData\\Local\\Programs\\Julia 1.5.3\\share\\julia\\stdlib\\v1.5\\SparseArrays\\src\\linalg.jl:1538</a></li> <li> factorize(A::<b>Union{Hermitian{T,S}, Symmetric{T,S}} where S where T</b>) in LinearAlgebra at <a href=\"file://C:/buildbot/worker/package_win64/build/usr/share/julia/stdlib/v1.5/LinearAlgebra/src/symmetric.jl\" target=\"_blank\">C:\\Users\\kacpe\\AppData\\Local\\Programs\\Julia 1.5.3\\share\\julia\\stdlib\\v1.5\\LinearAlgebra\\src\\symmetric.jl:634</a></li> <li> factorize(A::<b>Tridiagonal</b>) in LinearAlgebra at <a href=\"file://C:/buildbot/worker/package_win64/build/usr/share/julia/stdlib/v1.5/LinearAlgebra/src/lu.jl\" target=\"_blank\">C:\\Users\\kacpe\\AppData\\Local\\Programs\\Julia 1.5.3\\share\\julia\\stdlib\\v1.5\\LinearAlgebra\\src\\lu.jl:555</a></li> <li> factorize(D::<b>Diagonal</b>) in LinearAlgebra at <a href=\"file://C:/buildbot/worker/package_win64/build/usr/share/julia/stdlib/v1.5/LinearAlgebra/src/diagonal.jl\" target=\"_blank\">C:\\Users\\kacpe\\AppData\\Local\\Programs\\Julia 1.5.3\\share\\julia\\stdlib\\v1.5\\LinearAlgebra\\src\\diagonal.jl:121</a></li> <li> factorize(A::<b>Bidiagonal</b>) in LinearAlgebra at <a href=\"file://C:/buildbot/worker/package_win64/build/usr/share/julia/stdlib/v1.5/LinearAlgebra/src/bidiag.jl\" target=\"_blank\">C:\\Users\\kacpe\\AppData\\Local\\Programs\\Julia 1.5.3\\share\\julia\\stdlib\\v1.5\\LinearAlgebra\\src\\bidiag.jl:875</a></li> <li> factorize(S::<b>SymTridiagonal</b>) in LinearAlgebra at <a href=\"file://C:/buildbot/worker/package_win64/build/usr/share/julia/stdlib/v1.5/LinearAlgebra/src/ldlt.jl\" target=\"_blank\">C:\\Users\\kacpe\\AppData\\Local\\Programs\\Julia 1.5.3\\share\\julia\\stdlib\\v1.5\\LinearAlgebra\\src\\ldlt.jl:166</a></li> <li> factorize(A::<b>SparseArrays.AbstractSparseMatrixCSC</b>) in SparseArrays at <a href=\"file://C:/buildbot/worker/package_win64/build/usr/share/julia/stdlib/v1.5/SparseArrays/src/linalg.jl\" target=\"_blank\">C:\\Users\\kacpe\\AppData\\Local\\Programs\\Julia 1.5.3\\share\\julia\\stdlib\\v1.5\\SparseArrays\\src\\linalg.jl:1508</a></li> </ul>"
      ],
      "text/plain": [
       "# 11 methods for generic function \"factorize\":\n",
       "[1] factorize(A::StridedArray{T, 2}) where T in LinearAlgebra at C:\\Users\\kacpe\\AppData\\Local\\Programs\\Julia 1.5.3\\share\\julia\\stdlib\\v1.5\\LinearAlgebra\\src\\dense.jl:1207\n",
       "[2] factorize(A::Adjoint) in LinearAlgebra at C:\\Users\\kacpe\\AppData\\Local\\Programs\\Julia 1.5.3\\share\\julia\\stdlib\\v1.5\\LinearAlgebra\\src\\dense.jl:1283\n",
       "[3] factorize(A::Transpose) in LinearAlgebra at C:\\Users\\kacpe\\AppData\\Local\\Programs\\Julia 1.5.3\\share\\julia\\stdlib\\v1.5\\LinearAlgebra\\src\\dense.jl:1284\n",
       "[4] factorize(A::LinearAlgebra.AbstractTriangular) in LinearAlgebra at C:\\Users\\kacpe\\AppData\\Local\\Programs\\Julia 1.5.3\\share\\julia\\stdlib\\v1.5\\LinearAlgebra\\src\\triangular.jl:2676\n",
       "[5] factorize(A::Union{Hermitian{Complex{Float64},var\"#s828\"}, Hermitian{Float64,var\"#s828\"}, Symmetric{Float64,var\"#s828\"}} where var\"#s828\"<:SparseArrays.AbstractSparseMatrixCSC) in SparseArrays at C:\\Users\\kacpe\\AppData\\Local\\Programs\\Julia 1.5.3\\share\\julia\\stdlib\\v1.5\\SparseArrays\\src\\linalg.jl:1538\n",
       "[6] factorize(A::Union{Hermitian{T,S}, Symmetric{T,S}} where S where T) in LinearAlgebra at C:\\Users\\kacpe\\AppData\\Local\\Programs\\Julia 1.5.3\\share\\julia\\stdlib\\v1.5\\LinearAlgebra\\src\\symmetric.jl:634\n",
       "[7] factorize(A::Tridiagonal) in LinearAlgebra at C:\\Users\\kacpe\\AppData\\Local\\Programs\\Julia 1.5.3\\share\\julia\\stdlib\\v1.5\\LinearAlgebra\\src\\lu.jl:555\n",
       "[8] factorize(D::Diagonal) in LinearAlgebra at C:\\Users\\kacpe\\AppData\\Local\\Programs\\Julia 1.5.3\\share\\julia\\stdlib\\v1.5\\LinearAlgebra\\src\\diagonal.jl:121\n",
       "[9] factorize(A::Bidiagonal) in LinearAlgebra at C:\\Users\\kacpe\\AppData\\Local\\Programs\\Julia 1.5.3\\share\\julia\\stdlib\\v1.5\\LinearAlgebra\\src\\bidiag.jl:875\n",
       "[10] factorize(S::SymTridiagonal) in LinearAlgebra at C:\\Users\\kacpe\\AppData\\Local\\Programs\\Julia 1.5.3\\share\\julia\\stdlib\\v1.5\\LinearAlgebra\\src\\ldlt.jl:166\n",
       "[11] factorize(A::SparseArrays.AbstractSparseMatrixCSC) in SparseArrays at C:\\Users\\kacpe\\AppData\\Local\\Programs\\Julia 1.5.3\\share\\julia\\stdlib\\v1.5\\SparseArrays\\src\\linalg.jl:1508"
      ]
     },
     "execution_count": 1,
     "metadata": {},
     "output_type": "execute_result"
    }
   ],
   "source": [
    "using LinearAlgebra\n",
    "methods(factorize)\n"
   ]
  },
  {
   "cell_type": "code",
   "execution_count": 8,
   "metadata": {},
   "outputs": [
    {
     "data": {
      "text/plain": [
       "6-element Array{Int64,1}:\n",
       "  1\n",
       "  4\n",
       "  9\n",
       " 16\n",
       " 25\n",
       " 36"
      ]
     },
     "execution_count": 8,
     "metadata": {},
     "output_type": "execute_result"
    }
   ],
   "source": [
    "x=[1; 2; 3; 4; 5; 6]\n",
    "A = zeros(6,3)\n",
    "A[:,3] = ones(6)\n",
    "A\n",
    "A[:,1] = x.^2\n"
   ]
  },
  {
   "cell_type": "code",
   "execution_count": 2,
   "metadata": {},
   "outputs": [
    {
     "data": {
      "text/plain": [
       "1000×1000 Array{Float64,2}:\n",
       " 0.517136   0.149953    0.508255   …  0.730812   0.742294  0.335116\n",
       " 0.850711   0.407269    0.176958      0.548037   0.83208   0.307664\n",
       " 0.15294    0.489132    0.790813      0.421145   0.702198  0.197562\n",
       " 0.328974   0.953306    0.528284      0.114693   0.293622  0.88689\n",
       " 0.341253   0.397289    0.0323014     0.199482   0.99335   0.653566\n",
       " 0.0516092  0.497667    0.626383   …  0.0754926  0.682364  0.110418\n",
       " 0.892419   0.282972    0.257752      0.399145   0.97552   0.485638\n",
       " 0.404049   0.119319    0.110595      0.719971   0.921642  0.255809\n",
       " 0.150156   0.129103    0.890861      0.847982   0.867755  0.731213\n",
       " 0.497498   0.00932048  0.587959      0.251575   0.1141    0.0504509\n",
       " 0.733272   0.0800332   0.71326    …  0.838878   0.545696  0.983639\n",
       " 0.534782   0.930348    0.336254      0.178918   0.81758   0.818236\n",
       " 0.604088   0.617067    0.751368      0.928072   0.342824  0.512634\n",
       " ⋮                                 ⋱                       \n",
       " 0.720661   0.242977    0.231182      0.534486   0.790666  0.340535\n",
       " 0.556663   0.117371    0.222487      0.342044   0.814187  0.192663\n",
       " 0.882892   0.920975    0.890972   …  0.777559   0.246788  0.607451\n",
       " 0.0117808  0.132406    0.426937      0.469997   0.667117  0.760316\n",
       " 0.155535   0.436051    0.220271      0.0734546  0.774001  0.923008\n",
       " 0.627904   0.731471    0.882356      0.296571   0.738432  0.520845\n",
       " 0.638686   0.655259    0.67234       0.936343   0.477943  0.394578\n",
       " 0.31015    0.185429    0.150425   …  0.157561   0.56342   0.984311\n",
       " 0.968391   0.673851    0.34862       0.432302   0.704796  0.637295\n",
       " 0.871327   0.864859    0.56827       0.661305   0.805004  0.102953\n",
       " 0.103486   0.816117    0.625841      0.163226   0.721897  0.442541\n",
       " 0.528803   0.893141    0.858562      0.42561    0.239647  0.51291"
      ]
     },
     "execution_count": 2,
     "metadata": {},
     "output_type": "execute_result"
    }
   ],
   "source": [
    "x = rand(1000)\n",
    "A = rand(1000,1000)"
   ]
  },
  {
   "cell_type": "code",
   "execution_count": 5,
   "metadata": {},
   "outputs": [
    {
     "data": {
      "text/plain": [
       "1000-element Array{Float64,1}:\n",
       " 237.37190940901115\n",
       " 251.98189091055107\n",
       " 245.23829015945813\n",
       " 250.38191555580752\n",
       " 229.98310395911207\n",
       " 246.88551708603603\n",
       " 247.55041451457544\n",
       " 246.30366477893526\n",
       " 248.48281306335753\n",
       " 237.9818227403135\n",
       " 259.9748475560494\n",
       " 238.67978519367082\n",
       " 243.62995673538336\n",
       "   ⋮\n",
       " 241.4684054529128\n",
       " 242.9026097369165\n",
       " 237.9054263661316\n",
       " 237.26903727432028\n",
       " 246.85671801834215\n",
       " 244.98188896593365\n",
       " 243.74626913754437\n",
       " 248.87211855014172\n",
       " 243.74822115617653\n",
       " 248.21910994305503\n",
       " 240.48887927438784\n",
       " 240.81601817171335"
      ]
     },
     "execution_count": 5,
     "metadata": {},
     "output_type": "execute_result"
    }
   ],
   "source": [
    "b = A*x"
   ]
  },
  {
   "cell_type": "code",
   "execution_count": 7,
   "metadata": {},
   "outputs": [
    {
     "name": "stdout",
     "output_type": "stream",
     "text": [
      "  0.051854 seconds (6 allocations: 8.133 MiB)\n"
     ]
    },
    {
     "data": {
      "text/plain": [
       "1000-element Array{Float64,1}:\n",
       " 0.5570129734684599\n",
       " 0.5081087059138092\n",
       " 0.7371168465772229\n",
       " 0.8043165243953041\n",
       " 0.5113562423962428\n",
       " 0.8076910331000349\n",
       " 0.5517998738686245\n",
       " 0.3122400246555408\n",
       " 0.43878252545975727\n",
       " 0.02433162926550736\n",
       " 0.7216691068072549\n",
       " 0.9426575699060606\n",
       " 0.2307987180613722\n",
       " ⋮\n",
       " 0.34126725270224867\n",
       " 0.5717379789849737\n",
       " 0.647552360284088\n",
       " 0.43030757573620804\n",
       " 0.7471142552399925\n",
       " 0.2677893104443356\n",
       " 0.19685678663001482\n",
       " 0.8037747243073241\n",
       " 0.0948682213725931\n",
       " 0.017092223862150924\n",
       " 0.9060659502040931\n",
       " 0.1407740015786807"
      ]
     },
     "execution_count": 7,
     "metadata": {},
     "output_type": "execute_result"
    }
   ],
   "source": [
    "@time inv(A) * b"
   ]
  },
  {
   "cell_type": "code",
   "execution_count": 9,
   "metadata": {},
   "outputs": [
    {
     "name": "stdout",
     "output_type": "stream",
     "text": [
      "  0.026407 seconds (4 allocations: 7.645 MiB)\n"
     ]
    },
    {
     "data": {
      "text/plain": [
       "1000-element Array{Float64,1}:\n",
       " 0.5570129734696937\n",
       " 0.5081087059141275\n",
       " 0.7371168465762291\n",
       " 0.8043165243960549\n",
       " 0.5113562423958545\n",
       " 0.807691033098788\n",
       " 0.5517998738690222\n",
       " 0.3122400246554049\n",
       " 0.43878252545951446\n",
       " 0.024331629265417275\n",
       " 0.7216691068078843\n",
       " 0.9426575699048106\n",
       " 0.23079871806047228\n",
       " ⋮\n",
       " 0.34126725270182795\n",
       " 0.5717379789849373\n",
       " 0.647552360283806\n",
       " 0.43030757573473954\n",
       " 0.7471142552392176\n",
       " 0.2677893104441701\n",
       " 0.19685678663010608\n",
       " 0.803774724307711\n",
       " 0.09486822137225139\n",
       " 0.01709222386282117\n",
       " 0.9060659502040753\n",
       " 0.14077400157842082"
      ]
     },
     "execution_count": 9,
     "metadata": {},
     "output_type": "execute_result"
    }
   ],
   "source": [
    "@time A \\ b"
   ]
  },
  {
   "cell_type": "code",
   "execution_count": 11,
   "metadata": {},
   "outputs": [
    {
     "name": "stdout",
     "output_type": "stream",
     "text": [
      "0.03299999237060547"
     ]
    }
   ],
   "source": [
    "t0 = time()\n",
    "Af = factorize(A)\n",
    "Af \\ b\n",
    "print(time() - t0)"
   ]
  },
  {
   "cell_type": "code",
   "execution_count": 57,
   "metadata": {},
   "outputs": [
    {
     "data": {
      "text/plain": [
       "10-element Array{Int64,1}:\n",
       "  1\n",
       "  2\n",
       "  3\n",
       "  4\n",
       "  5\n",
       "  6\n",
       "  7\n",
       "  8\n",
       "  9\n",
       " 10"
      ]
     },
     "execution_count": 57,
     "metadata": {},
     "output_type": "execute_result"
    }
   ],
   "source": [
    "f4(x) = ( x + 3 ) * ( x - 1 )^2\n",
    "A = ones(10,3)\n",
    "x = [i for i in 1:10]\n",
    "y = [f4(i) for i in x]\n",
    "A[:,1] = x.^2\n",
    "A[:,2] = x"
   ]
  },
  {
   "cell_type": "code",
   "execution_count": 30,
   "metadata": {},
   "outputs": [
    {
     "data": {
      "text/plain": [
       "QRPivoted{Float64,Array{Float64,2}}\n",
       "Q factor:\n",
       "10×10 LinearAlgebra.QRPackedQ{Float64,Array{Float64,2}}:\n",
       " -0.00628285  -0.180555    0.765207   …  -0.0284868   -0.233895   -0.512314\n",
       " -0.0251314   -0.312143    0.425115       0.338725     0.449124    0.54828\n",
       " -0.0565456   -0.394764    0.155876      -0.335443    -0.16683     0.0721115\n",
       " -0.100526    -0.428418   -0.0425115     -0.00247151   0.0490448   0.109208\n",
       " -0.157071    -0.413105   -0.170046      -0.0807517   -0.0194093   0.0591343\n",
       " -0.226183    -0.348824   -0.226728   …  -0.139421    -0.0865541  -0.0143963\n",
       " -0.30786     -0.235576   -0.212558      -0.178479    -0.15239    -0.111384\n",
       " -0.402102    -0.0733617  -0.127535       0.802074    -0.216916   -0.231827\n",
       " -0.508911     0.13782     0.028341      -0.197761     0.719867   -0.375728\n",
       " -0.628285     0.397969    0.255069      -0.177986    -0.342041    0.456915\n",
       "R factor:\n",
       "3×3 Array{Float64,2}:\n",
       " -159.163  -19.0056   -2.4189\n",
       "    0.0     -4.87713  -1.85096\n",
       "    0.0      0.0       0.85023\n",
       "permutation:\n",
       "3-element Array{Int64,1}:\n",
       " 1\n",
       " 2\n",
       " 3"
      ]
     },
     "execution_count": 30,
     "metadata": {},
     "output_type": "execute_result"
    }
   ],
   "source": [
    "AF = factorize(A)\n"
   ]
  },
  {
   "cell_type": "code",
   "execution_count": 33,
   "metadata": {},
   "outputs": [
    {
     "data": {
      "text/plain": [
       "3-element Array{Float64,1}:\n",
       "  17.49999999999999\n",
       " -81.09999999999987\n",
       "  88.79999999999959"
      ]
     },
     "execution_count": 33,
     "metadata": {},
     "output_type": "execute_result"
    }
   ],
   "source": [
    "AF.R\\((Transpose(AF.Q)*y)[1:3])"
   ]
  },
  {
   "cell_type": "code",
   "execution_count": 34,
   "metadata": {},
   "outputs": [
    {
     "data": {
      "text/plain": [
       "3-element Array{Float64,1}:\n",
       "  17.499999999999996\n",
       " -81.09999999999998\n",
       "  88.79999999999986"
      ]
     },
     "execution_count": 34,
     "metadata": {},
     "output_type": "execute_result"
    }
   ],
   "source": [
    "A \\ y"
   ]
  },
  {
   "cell_type": "code",
   "execution_count": 35,
   "metadata": {},
   "outputs": [
    {
     "data": {
      "text/html": [
       "88.8000000000006 &#45; 81.10000000000016&#8729;x &#43; 17.50000000000001&#8729;x<sup>2</sup>"
      ],
      "text/latex": [
       "$88.8000000000006 - 81.10000000000016\\cdot x + 17.50000000000001\\cdot x^{2}$"
      ],
      "text/plain": [
       "Polynomial(88.8000000000006 - 81.10000000000016*x + 17.50000000000001*x^2)"
      ]
     },
     "execution_count": 35,
     "metadata": {},
     "output_type": "execute_result"
    }
   ],
   "source": [
    "using Polynomials\n",
    "fit(x,y, 2)"
   ]
  },
  {
   "cell_type": "code",
   "execution_count": 36,
   "metadata": {
    "scrolled": true
   },
   "outputs": [
    {
     "data": {
      "text/plain": [
       "3×3 Array{Float64,2}:\n",
       " -159.163  -19.0056   -2.4189\n",
       "    0.0     -4.87713  -1.85096\n",
       "    0.0      0.0       0.85023"
      ]
     },
     "execution_count": 36,
     "metadata": {},
     "output_type": "execute_result"
    }
   ],
   "source": [
    "AF.R"
   ]
  },
  {
   "cell_type": "code",
   "execution_count": 127,
   "metadata": {},
   "outputs": [
    {
     "data": {
      "text/plain": [
       "pseuinverse (generic function with 1 method)"
      ]
     },
     "execution_count": 127,
     "metadata": {},
     "output_type": "execute_result"
    }
   ],
   "source": [
    "function pseuinverse(A::Array{Float64,2})\n",
    "    Q, R = qr(A)\n",
    "    return (inv(R) * transpose(Q))\n",
    "end"
   ]
  },
  {
   "cell_type": "code",
   "execution_count": 136,
   "metadata": {
    "scrolled": false
   },
   "outputs": [
    {
     "data": {
      "text/plain": [
       "50×50 Array{Float64,2}:\n",
       "  1.0           7.52268e-16   1.70131e-15  …   2.43394e-15  -2.47396e-15\n",
       " -1.32286e-16   1.0           7.74095e-16      1.83466e-15   1.0171e-16\n",
       " -4.57653e-16  -6.59652e-16   1.0              2.16153e-15   1.18386e-15\n",
       " -5.68672e-16   4.07225e-16   1.31124e-15      2.41992e-15   3.80131e-16\n",
       "  1.98324e-15  -8.27331e-16  -3.48433e-15     -2.15614e-15   9.46342e-16\n",
       "  4.86174e-16  -3.20842e-16  -4.35399e-16  …  -1.39886e-15  -1.32062e-15\n",
       "  5.20261e-16  -1.10729e-15  -7.54509e-16     -2.05693e-15  -2.78777e-16\n",
       "  2.3588e-16   -9.39819e-16  -1.44601e-15      1.05336e-15  -8.74268e-16\n",
       "  2.47498e-17   7.42288e-16   5.97161e-16      1.76839e-16  -1.95685e-16\n",
       " -1.47948e-15  -8.8935e-16   -3.44623e-16      1.97123e-15  -4.93208e-16\n",
       " -1.02479e-17   4.07222e-16   1.57956e-15  …   7.35756e-17  -9.95222e-16\n",
       " -8.21438e-16  -1.03587e-15  -2.78353e-16      4.61747e-16  -1.98651e-15\n",
       "  1.33341e-15   1.01986e-16  -3.13205e-15     -1.13931e-15   3.0583e-16\n",
       "  ⋮                                        ⋱                \n",
       " -2.96896e-16  -9.64463e-17   3.20783e-16      4.16781e-16  -1.19973e-15\n",
       "  7.784e-16    -3.30399e-16  -1.47239e-15      4.37302e-17  -2.27682e-16\n",
       " -2.12778e-16   1.92345e-16   8.2726e-16   …   5.73795e-16  -4.58782e-16\n",
       " -3.76971e-16   6.97216e-16   1.7502e-15       4.26388e-16  -3.40075e-16\n",
       " -4.01011e-16  -2.19179e-16   5.52902e-16      5.84474e-16  -1.24432e-16\n",
       " -2.06569e-16   8.02251e-16   1.09838e-15      2.26607e-16  -9.1286e-16\n",
       " -1.43409e-16   4.15638e-16   3.14342e-16      1.64293e-15   1.84352e-16\n",
       "  8.94786e-16   1.33167e-16  -5.39332e-16  …   1.3461e-15    1.33908e-16\n",
       "  2.96052e-17  -1.69677e-16  -2.85034e-16      7.3127e-16   -6.62964e-16\n",
       " -1.55775e-16   8.91552e-16   2.05983e-15     -7.53817e-16  -4.38436e-16\n",
       "  1.18724e-16  -3.71071e-16  -1.26119e-15      1.0          -2.14532e-16\n",
       "  1.76572e-15   2.81897e-17  -2.76639e-15     -3.74191e-16   1.0"
      ]
     },
     "execution_count": 136,
     "metadata": {},
     "output_type": "execute_result"
    }
   ],
   "source": [
    "A2 = rand(50,50)\n",
    "C = pseuinverse(A2)\n",
    "A2 * C\n"
   ]
  },
  {
   "cell_type": "code",
   "execution_count": 135,
   "metadata": {},
   "outputs": [
    {
     "data": {
      "text/plain": [
       "true"
      ]
     },
     "execution_count": 135,
     "metadata": {},
     "output_type": "execute_result"
    }
   ],
   "source": [
    "isapprox(A2, pseuinverse(pseuinverse(A2)))"
   ]
  }
 ],
 "metadata": {
  "kernelspec": {
   "display_name": "Julia 1.5.3",
   "language": "julia",
   "name": "julia-1.5"
  },
  "language_info": {
   "file_extension": ".jl",
   "mimetype": "application/julia",
   "name": "julia",
   "version": "1.5.3"
  }
 },
 "nbformat": 4,
 "nbformat_minor": 4
}
